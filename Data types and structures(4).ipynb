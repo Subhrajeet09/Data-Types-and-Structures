{
 "cells": [
  {
   "cell_type": "raw",
   "id": "6d57177c-c0dc-4752-8e47-58e670feeb90",
   "metadata": {},
   "source": [
    "##Theory questions"
   ]
  },
  {
   "cell_type": "raw",
   "id": "4916e80c-4385-470a-b8ab-0ee4011a4192",
   "metadata": {},
   "source": [
    "Q.1 What are data structures, and why are they important?\n",
    "Ans Data structures are ways of organizing and storing data so it can be accessed and modified efficiently. Examples include lists, tuples, sets, and        dictionaries in Python. They’re important because they help in:\n",
    "    Efficient data access\n",
    "    Logical data organization\n",
    "    Simplifying complex operations\n",
    "    Optimizing memory and performance"
   ]
  },
  {
   "cell_type": "raw",
   "id": "cd3f305b-883a-487c-9b55-3994bd41ff69",
   "metadata": {},
   "source": [
    "Q.2 Explain the difference between mutable and immutable data types with examples?\n",
    "Ans Mutable: Can be changed after creation.\n",
    "    Example: list, dict, set\n",
    "    Immutable: Cannot be changed after creation.\n",
    "    Example: int, str, tuple"
   ]
  },
  {
   "cell_type": "raw",
   "id": "415699a2-2e8b-4227-80f4-8d928b90962c",
   "metadata": {},
   "source": [
    "Q.3 What are the main differences between lists and tuples in Python?\n",
    "Ans Lits are mutable and we can make changes in it whereas tuple is immutable.\n",
    "    List elements are enclosed in square brackets and tuple elements are enclosed with parentheses syntax."
   ]
  },
  {
   "cell_type": "raw",
   "id": "01dcafb3-c387-4888-a595-5f5d286bf4bb",
   "metadata": {},
   "source": [
    "Q.4 Describe how dictionaries store data.\n",
    "Ans Dictionaries store data as key-value pairs using a hash table behind the scenes. Each key is hashed to determine where its value is stored."
   ]
  },
  {
   "cell_type": "raw",
   "id": "1deb81e4-70c6-428a-827a-ac48e7f19e86",
   "metadata": {},
   "source": [
    "Q.5 Why might you use a set instead of a list in Python?\n",
    "Ans To remove duplicates automatically.\n",
    "    To perform set operations (union, intersection, difference).\n",
    "    Faster membership testing (x in set) compared to lists."
   ]
  },
  {
   "cell_type": "raw",
   "id": "2070432b-64a5-4478-81ee-c81c346adf1a",
   "metadata": {},
   "source": [
    "Q.6 What is a string in Python, and how is it different from a list?\n",
    "Ans A string is a sequence of characters, immutable.\n",
    "    A list is a sequence of elements, mutable."
   ]
  },
  {
   "cell_type": "raw",
   "id": "4b249bdd-b643-488a-90b3-778bf59d7bac",
   "metadata": {},
   "source": [
    "Q.7 How do tuples ensure data integrity in Python?\n",
    "Ans Being immutable, tuples can't be modified accidentally.\n",
    "    Ideal for constant data, such as coordinates or fixed settings."
   ]
  },
  {
   "cell_type": "raw",
   "id": "baddda45-ba07-4a56-a8af-f0f153c1d446",
   "metadata": {},
   "source": [
    "Q.8 What is a hash table, and how does it relate to dictionaries in Python?\n",
    "Ans A hash table in Python are data structures that store data in key-value pairs, using a hash function to map keys to specific locations in an array.\n",
    "    In Python, dictionaries use hash tables internally to allow O(1) average-time complexity for lookups.\n",
    "    It offers fast, efficient access to data using keys instead of numeric indices."
   ]
  },
  {
   "cell_type": "raw",
   "id": "fb58b89a-72ae-4905-b6b2-c2589812b78e",
   "metadata": {},
   "source": [
    "Q.9 Can lists contain different data types in Python?\n",
    "Ans Yes. Python lists are heterogeneous, meaning they can store elements of different types: strings, integers, floating point numbers, complex              numbers, boolean."
   ]
  },
  {
   "cell_type": "raw",
   "id": "9f1ab81a-e9c5-4d43-a019-c105d6d5fdb8",
   "metadata": {},
   "source": [
    "Q.10 Explain why strings are immutable in Python.\n",
    "Ans.  For performance optimization.\n",
    "     For security and thread-safety (multiple references can safely point to the same string).\n",
    "     Because strings are often used as dictionary keys (must be hashable)."
   ]
  },
  {
   "cell_type": "raw",
   "id": "ad2f0678-f4e1-4dfd-a4bf-9e46be54664c",
   "metadata": {},
   "source": [
    "Q.11 What advantages do dictionaries offer over lists for certain tasks?\n",
    "Ans. Faster data retrieval by key (O(1) vs O(n) for lists).\n",
    "     No need to remember index positions.\n",
    "     Easy update of values.\n",
    "     Semantic clarity: person['age'] is more meaningful than person[2].\n",
    "     Great for structured data."
   ]
  },
  {
   "cell_type": "raw",
   "id": "31985f10-21d8-4c24-989e-1ac0e90203ea",
   "metadata": {},
   "source": [
    "Q.12 Describe a scenario where using a tuple would be preferable over a list.\n",
    "Ans. When we want to store data which we don't want to modify later on. For example, tuple stores even numbers from 1 to 50 which is going to be fixed        in this case we prefer tuple over list."
   ]
  },
  {
   "cell_type": "raw",
   "id": "f3bc2b59-d3c6-41d1-ada8-9743d0827add",
   "metadata": {},
   "source": [
    "Q.13 How do sets handle duplicate values in Python?\n",
    "Ans. Sets do not contain duplicate values. Duplicates are automatically removed when we add items to a set."
   ]
  },
  {
   "cell_type": "raw",
   "id": "9006ee3b-5fe4-4754-afa6-f9191a0822d7",
   "metadata": {},
   "source": [
    "Q.14 How does the “in” keyword work differently for lists and dictionaries?\n",
    "Ans. Both returns boolean value on calling. But their syntax is different. \n",
    "     x in list: Checks if value exists → O(n) time.\n",
    "     x in dict: Checks if key exists → O(1) average time."
   ]
  },
  {
   "cell_type": "raw",
   "id": "6c72c0c9-c4cd-498f-a7e0-b19d5fd2e723",
   "metadata": {},
   "source": [
    "Q.15 Can you modify the elements of a tuple? Explain why or why not.\n",
    "Ans. No. Tuples are immutable. Once created, their contents cannot be changed."
   ]
  },
  {
   "cell_type": "raw",
   "id": "9c394997-cfbf-4b5e-8011-bccb11bfb6e8",
   "metadata": {},
   "source": [
    "Q.16 What is a nested dictionary, and give an example of its use case?\n",
    "Ans. A nested dictionary is a dictionary within another dictionary.\n",
    "     Example: If we want to store values like name, age ,course of students according to their roll number."
   ]
  },
  {
   "cell_type": "raw",
   "id": "86b2ba85-99d6-4d17-9693-78049bd78e49",
   "metadata": {},
   "source": [
    "#Q.17 Describe the time complexity of accessing elements in a dictionary.\n",
    "Ans.  Average case: O(1) (very fast), jumps to where its value is stored.\n",
    "      Worst case: O(n) (rare, depends on hash collisions)."
   ]
  },
  {
   "cell_type": "raw",
   "id": "92b8552b-0ea6-4e87-b976-91a77fb511c0",
   "metadata": {},
   "source": [
    "#Q.18 In what situations are lists preferred over dictionaries?\n",
    "Ans.  When order matters and keys are not needed.\n",
    "      When dealing with simple sequences (e.g., names, numbers).\n",
    "      For iteration by index."
   ]
  },
  {
   "cell_type": "raw",
   "id": "bf422e8b-7503-4a18-b289-a9d1f47e1432",
   "metadata": {},
   "source": [
    "#Q.19 Why are dictionaries considered unordered, and how does that affect data retrieval?\n",
    "Ans.  Dictionaries are unordered because their primary design is for fast key-based lookup, not for position-based access.\n",
    "      We cannot access its values by index rather we have to use key to access its values."
   ]
  },
  {
   "cell_type": "raw",
   "id": "a2a525dd-d51b-46cf-8b16-da1ba7848e3f",
   "metadata": {},
   "source": [
    "#Q.20 Explain the difference between a list and a dictionary in terms of data retrieval.\n",
    "Ans.  List: Retrieve by index (e.g., list[2]).\n",
    "      Dict: Retrieve by key (e.g., dict[\"name\"]).\n",
    "      Lists: ordered, index-based.\n",
    "      Dictionaries: key-value, faster access for known keys."
   ]
  },
  {
   "cell_type": "raw",
   "id": "3ae36df8-7c04-4a06-94f7-c70ff1079228",
   "metadata": {},
   "source": [
    "## Practical Questions"
   ]
  },
  {
   "cell_type": "code",
   "execution_count": 2,
   "id": "31986548-dbc0-46f2-bb12-b32f4bf96546",
   "metadata": {},
   "outputs": [
    {
     "name": "stdin",
     "output_type": "stream",
     "text": [
      "Enter your name: shubh\n"
     ]
    },
    {
     "name": "stdout",
     "output_type": "stream",
     "text": [
      "name: shubh\n"
     ]
    }
   ],
   "source": [
    "#Q.1\n",
    "name=input(\"Enter your name:\")\n",
    "print('name:',name)"
   ]
  },
  {
   "cell_type": "code",
   "execution_count": 2,
   "id": "44bd9861-6be6-4c2c-bd4d-f3914e6ba01d",
   "metadata": {},
   "outputs": [
    {
     "name": "stdout",
     "output_type": "stream",
     "text": [
      "11\n"
     ]
    }
   ],
   "source": [
    "#Q.2\n",
    "a=\"Hello world\"\n",
    "print(len(a))"
   ]
  },
  {
   "cell_type": "code",
   "execution_count": 3,
   "id": "af35cae6-4fec-4413-ae49-3e2e50553b5e",
   "metadata": {},
   "outputs": [
    {
     "name": "stdout",
     "output_type": "stream",
     "text": [
      "Pyt\n"
     ]
    }
   ],
   "source": [
    "#Q.3\n",
    "a=\"Python Programming\"\n",
    "print(a[0:3])"
   ]
  },
  {
   "cell_type": "code",
   "execution_count": null,
   "id": "4bf5771c-a2c0-4ed5-b8ed-aae937a1f5e2",
   "metadata": {},
   "outputs": [],
   "source": [
    "#Q.4\n",
    "a=\"hello\"\n",
    "print(a.upper())"
   ]
  },
  {
   "cell_type": "code",
   "execution_count": 37,
   "id": "e947111e-1954-4599-9111-b0d191264cac",
   "metadata": {},
   "outputs": [
    {
     "name": "stdout",
     "output_type": "stream",
     "text": [
      "I like kela\n"
     ]
    }
   ],
   "source": [
    "#Q.5\n",
    "a=\"I like apple\"\n",
    "print(a.replace(\"apple\",\"orange\"))"
   ]
  },
  {
   "cell_type": "code",
   "execution_count": 36,
   "id": "4bab02bc-150a-43d8-9eb9-27e4d2372dba",
   "metadata": {},
   "outputs": [
    {
     "name": "stdout",
     "output_type": "stream",
     "text": [
      "[1, 2, 3, 4, 5]\n"
     ]
    }
   ],
   "source": [
    "#Q.6\n",
    "list1=[]\n",
    "for i in range(1,6):\n",
    "    list1.append(i)\n",
    "print(list1)"
   ]
  },
  {
   "cell_type": "code",
   "execution_count": 6,
   "id": "043253a8-2fbc-4640-9927-c2467d8ff955",
   "metadata": {},
   "outputs": [
    {
     "name": "stdout",
     "output_type": "stream",
     "text": [
      "[1, 2, 3, 4, 10]\n"
     ]
    }
   ],
   "source": [
    "#Q.7\n",
    "list1=[1,2,3,4]\n",
    "list1.append(10)\n",
    "print(list1)"
   ]
  },
  {
   "cell_type": "code",
   "execution_count": 7,
   "id": "3ce74a29-bbfa-4e79-b150-ad84dae6ff58",
   "metadata": {},
   "outputs": [
    {
     "name": "stdout",
     "output_type": "stream",
     "text": [
      "[1, 2, 4, 5]\n"
     ]
    }
   ],
   "source": [
    "#Q.8\n",
    "l1=[1,2,3,4,5]\n",
    "l1.remove(3)\n",
    "print(l1)"
   ]
  },
  {
   "cell_type": "code",
   "execution_count": 8,
   "id": "9b4f1d72-3433-4b28-a6f2-bf4a94286504",
   "metadata": {},
   "outputs": [
    {
     "name": "stdout",
     "output_type": "stream",
     "text": [
      "b\n"
     ]
    }
   ],
   "source": [
    "#Q.9\n",
    "list1=['a','b','c','d']\n",
    "print(list1[1])"
   ]
  },
  {
   "cell_type": "code",
   "execution_count": null,
   "id": "10f19080-33be-462d-844b-cd1623f8b0c0",
   "metadata": {},
   "outputs": [],
   "source": [
    "#Q.10\n",
    "list1=[10,20,30,40,50]\n",
    "list1.reverse()\n",
    "print(list1)"
   ]
  },
  {
   "cell_type": "code",
   "execution_count": 9,
   "id": "cec96d7e-4c13-4e8a-8df4-9ee6184a7411",
   "metadata": {},
   "outputs": [
    {
     "name": "stdout",
     "output_type": "stream",
     "text": [
      "(100, 200, 300)\n"
     ]
    }
   ],
   "source": [
    "#Q.11\n",
    "t=(100,200,300)\n",
    "print(t)"
   ]
  },
  {
   "cell_type": "code",
   "execution_count": 10,
   "id": "c328a196-b69b-41f9-a0ca-cef0db3dde23",
   "metadata": {},
   "outputs": [
    {
     "name": "stdout",
     "output_type": "stream",
     "text": [
      "blue\n"
     ]
    }
   ],
   "source": [
    "#Q.12\n",
    "t1=('red','green','blue','yellow')\n",
    "print(t1[2])"
   ]
  },
  {
   "cell_type": "code",
   "execution_count": 11,
   "id": "f2659b50-3058-4dfa-ad83-cb0dc9d25cc9",
   "metadata": {},
   "outputs": [
    {
     "name": "stdout",
     "output_type": "stream",
     "text": [
      "5\n"
     ]
    }
   ],
   "source": [
    "#Q.13\n",
    "t=(10,20,5,15)\n",
    "print(min(t))"
   ]
  },
  {
   "cell_type": "code",
   "execution_count": 12,
   "id": "2c39dbbe-47c8-4edf-9dc4-d74fa08a6cea",
   "metadata": {},
   "outputs": [
    {
     "name": "stdout",
     "output_type": "stream",
     "text": [
      "1\n"
     ]
    }
   ],
   "source": [
    "#Q.14\n",
    "tuple1=('dog','cat','rabbit')\n",
    "print(tuple1.index('cat'))"
   ]
  },
  {
   "cell_type": "code",
   "execution_count": 13,
   "id": "7f939e45-19ff-4f3f-966d-0bb95e0e7b78",
   "metadata": {},
   "outputs": [
    {
     "name": "stdout",
     "output_type": "stream",
     "text": [
      "kiwi is not present in fruits\n"
     ]
    }
   ],
   "source": [
    "#Q.15\n",
    "fruits=('pineapple','mango','watermelon')\n",
    "search=fruits.count('kiwi')\n",
    "if search==0:\n",
    "    print(\"kiwi is not present in fruits\")\n",
    "else:\n",
    "    print(\"kiwi is present in fruits\")"
   ]
  },
  {
   "cell_type": "code",
   "execution_count": 14,
   "id": "19c9704e-4e05-4257-9d0c-18e349dbd30a",
   "metadata": {},
   "outputs": [
    {
     "name": "stdout",
     "output_type": "stream",
     "text": [
      "{'c', 'a', 'b'}\n"
     ]
    }
   ],
   "source": [
    "#Q.16\n",
    "s={'a','b','c'}\n",
    "print(s)"
   ]
  },
  {
   "cell_type": "code",
   "execution_count": 15,
   "id": "0dec41b4-9ebe-41ae-9fa2-9baae10d5211",
   "metadata": {},
   "outputs": [
    {
     "name": "stdout",
     "output_type": "stream",
     "text": [
      "set()\n"
     ]
    }
   ],
   "source": [
    "#Q.17\n",
    "s={1,2,3,4,5}\n",
    "s.clear()\n",
    "print(s)"
   ]
  },
  {
   "cell_type": "code",
   "execution_count": 16,
   "id": "a6118cd4-fbe8-4713-bb93-ed43d5eeebd2",
   "metadata": {},
   "outputs": [
    {
     "name": "stdout",
     "output_type": "stream",
     "text": [
      "{1, 2, 3}\n"
     ]
    }
   ],
   "source": [
    "#Q.18\n",
    "s1={1,2,3,4}\n",
    "s1.remove(4)\n",
    "print(s1)"
   ]
  },
  {
   "cell_type": "code",
   "execution_count": 39,
   "id": "cacce933-6c7e-4f96-8b9e-0d549e093d16",
   "metadata": {},
   "outputs": [
    {
     "name": "stdout",
     "output_type": "stream",
     "text": [
      "{1, 2, 3, 4, 5}\n"
     ]
    }
   ],
   "source": [
    "#Q.19\n",
    "a={1,2,3}\n",
    "b={3,4,5}\n",
    "print(a.union(b))"
   ]
  },
  {
   "cell_type": "code",
   "execution_count": 18,
   "id": "82380815-0b22-4b72-b036-00eede18ae7d",
   "metadata": {},
   "outputs": [
    {
     "name": "stdout",
     "output_type": "stream",
     "text": [
      "{2, 3}\n"
     ]
    }
   ],
   "source": [
    "#Q.20\n",
    "x={1,2,3}\n",
    "y={2,3,4}\n",
    "print(x.intersection(y))"
   ]
  },
  {
   "cell_type": "code",
   "execution_count": 19,
   "id": "29b50188-a15d-4cba-8e79-1ebefd0b4634",
   "metadata": {},
   "outputs": [
    {
     "name": "stdout",
     "output_type": "stream",
     "text": [
      "{'name': 'Subhrajeet rout', 'age': 24, 'city': 'delhi'}\n"
     ]
    }
   ],
   "source": [
    "#Q.21\n",
    "profile={\"name\":\"Subhrajeet rout\",\n",
    "    \"age\":24,\n",
    "    \"city\":\"delhi\"\n",
    "}\n",
    "print(profile)"
   ]
  },
  {
   "cell_type": "code",
   "execution_count": 20,
   "id": "418b7d9d-491a-4f31-a593-1261eee1a1d0",
   "metadata": {},
   "outputs": [
    {
     "name": "stdout",
     "output_type": "stream",
     "text": [
      "{'name': 'John', 'age': 25, 'country': 'USA'}\n"
     ]
    }
   ],
   "source": [
    "#Q.22\n",
    "profile={\"name\":\"John\",\n",
    "    \"age\":25,\n",
    "}\n",
    "profile.update({\"country\":\"USA\"})\n",
    "print(profile)"
   ]
  },
  {
   "cell_type": "code",
   "execution_count": 21,
   "id": "f5dc1bc8-189a-458f-b0d4-3a7170048ded",
   "metadata": {},
   "outputs": [
    {
     "name": "stdout",
     "output_type": "stream",
     "text": [
      "Alice\n"
     ]
    }
   ],
   "source": [
    "#Q.23\n",
    "dict1={\n",
    "    \"name\":\"Alice\",\n",
    "    \"age\":30\n",
    "}\n",
    "print(dict1[\"name\"])"
   ]
  },
  {
   "cell_type": "code",
   "execution_count": 22,
   "id": "2f412e62-0211-4e15-a751-74a3672b20d6",
   "metadata": {},
   "outputs": [
    {
     "name": "stdout",
     "output_type": "stream",
     "text": [
      "{'name': 'Bob', 'city': 'New York'}\n"
     ]
    }
   ],
   "source": [
    "#Q.24\n",
    "details={'name': 'Bob', \n",
    "         'age': 22, \n",
    "         'city': 'New York'\n",
    "}\n",
    "details.pop('age')\n",
    "print(details)"
   ]
  },
  {
   "cell_type": "code",
   "execution_count": 23,
   "id": "518231cd-930e-4be5-b2ff-442bbc30da1a",
   "metadata": {},
   "outputs": [
    {
     "name": "stdout",
     "output_type": "stream",
     "text": [
      "Paris\n"
     ]
    }
   ],
   "source": [
    "#Q.25\n",
    "stud={'name': 'Alice',\n",
    "    'city': 'Paris'\n",
    "}\n",
    "print(stud.get('city'))"
   ]
  },
  {
   "cell_type": "code",
   "execution_count": 24,
   "id": "565f3610-7d2f-40b0-be31-19b4e57f4056",
   "metadata": {},
   "outputs": [
    {
     "name": "stdout",
     "output_type": "stream",
     "text": [
      "['shubh', 6, True, 4.2] <class 'list'> \n",
      " ('shubh', 6, False, 4.2) <class 'tuple'> \n",
      " {'Shubh': 26, 'Krish': 29, 'harry': 15} <class 'dict'>\n"
     ]
    }
   ],
   "source": [
    "#Q.26\n",
    "list1=['shubh',6,True,4.2]\n",
    "tuple1=('shubh',6,False,4.2)\n",
    "dict1={'Shubh':26,\n",
    "       'Krish':29,\n",
    "       'harry':15\n",
    "}\n",
    "print(list1,type(list1),\"\\n\",tuple1,type(tuple1),\"\\n\",dict1,type(dict1))"
   ]
  },
  {
   "cell_type": "code",
   "execution_count": 35,
   "id": "867b70d7-99dd-415f-8e32-090e2d0de4d3",
   "metadata": {},
   "outputs": [
    {
     "name": "stdout",
     "output_type": "stream",
     "text": [
      "[11, 21, 22, 40, 63]\n"
     ]
    }
   ],
   "source": [
    "#Q.27\n",
    "import random\n",
    "list1=[]\n",
    "a=random.randint(1,100)\n",
    "b=random.randint(1,100)\n",
    "c=random.randint(1,100)\n",
    "d=random.randint(1,100)\n",
    "e=random.randint(1,100)\n",
    "list1.append(a)\n",
    "list1.append(b)\n",
    "list1.append(c)\n",
    "list1.append(d)\n",
    "list1.append(e)\n",
    "list1.sort()\n",
    "print(list1)"
   ]
  },
  {
   "cell_type": "code",
   "execution_count": 27,
   "id": "4aef8b5b-0cff-4179-bb95-6df8c10f2f58",
   "metadata": {},
   "outputs": [
    {
     "name": "stdout",
     "output_type": "stream",
     "text": [
      "mango\n"
     ]
    }
   ],
   "source": [
    "#Q.28\n",
    "list1=['Shubh','Krishna','Watermelon','mango','sacrifice']\n",
    "print(list1[3])"
   ]
  },
  {
   "cell_type": "code",
   "execution_count": 30,
   "id": "d3b8cfb0-84d9-4cee-85ae-890b135ad2f5",
   "metadata": {},
   "outputs": [
    {
     "name": "stdout",
     "output_type": "stream",
     "text": [
      "{'name': 'John', 'age': 25, 'john': 30, 'subject': 'python'}\n"
     ]
    }
   ],
   "source": [
    "#Q.29\n",
    "dict1={\"name\":\"John\",\n",
    "    \"age\":25,\n",
    "}\n",
    "\n",
    "dict2={'john':30,\n",
    "       'subject':'python'\n",
    "}\n",
    "dict1.update(dict2)\n",
    "print(dict1)"
   ]
  },
  {
   "cell_type": "code",
   "execution_count": 33,
   "id": "0665f34b-fd4f-4866-bd1c-debcb7715a00",
   "metadata": {},
   "outputs": [
    {
     "name": "stdout",
     "output_type": "stream",
     "text": [
      "{'9', 'hello', 'krishna', 'focus', 'shubh'} <class 'set'>\n"
     ]
    }
   ],
   "source": [
    "#Q.30\n",
    "list1=['shubh','krishna','hello','9','focus']\n",
    "set1=set(list1)\n",
    "print(set1,type(set1))"
   ]
  }
 ],
 "metadata": {
  "kernelspec": {
   "display_name": "Python 3 (ipykernel)",
   "language": "python",
   "name": "python3"
  },
  "language_info": {
   "codemirror_mode": {
    "name": "ipython",
    "version": 3
   },
   "file_extension": ".py",
   "mimetype": "text/x-python",
   "name": "python",
   "nbconvert_exporter": "python",
   "pygments_lexer": "ipython3",
   "version": "3.12.7"
  }
 },
 "nbformat": 4,
 "nbformat_minor": 5
}
